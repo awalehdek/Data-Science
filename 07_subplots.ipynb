{
 "cells": [
  {
   "cell_type": "code",
   "execution_count": 1,
   "metadata": {},
   "outputs": [
    {
     "name": "stderr",
     "output_type": "stream",
     "text": [
      "C:\\Users\\imran\\Anaconda3\\lib\\site-packages\\pandas\\compat\\_optional.py:138: UserWarning: Pandas requires version '2.7.0' or newer of 'numexpr' (version '2.6.8' currently installed).\n",
      "  warnings.warn(msg, UserWarning)\n"
     ]
    }
   ],
   "source": [
    "# import relevant libraries and modules\n",
    "import numpy as np\n",
    "import pandas as pd\n",
    "import matplotlib.pyplot as plt\n",
    "import warnings\n",
    "warnings.filterwarnings('ignore')\n",
    "%matplotlib inline"
   ]
  },
  {
   "cell_type": "code",
   "execution_count": 2,
   "metadata": {},
   "outputs": [],
   "source": [
    "# create a pandas series containing students' grades \n",
    "# on Exam #1 in a particular course\n",
    "exam1_grades = pd.Series(np.random.normal(50, 15, 400))"
   ]
  },
  {
   "cell_type": "code",
   "execution_count": 3,
   "metadata": {},
   "outputs": [],
   "source": [
    "# create a pandas series containing students' grades \n",
    "# on Exam #2 in the same course\n",
    "exam2_grades = pd.Series(np.random.normal(60, 10, 400))"
   ]
  },
  {
   "cell_type": "code",
   "execution_count": 4,
   "metadata": {},
   "outputs": [
    {
     "data": {
      "text/plain": [
       "0    50.767629\n",
       "1    35.885651\n",
       "2    25.863683\n",
       "3    63.880479\n",
       "4    76.813004\n",
       "dtype: float64"
      ]
     },
     "execution_count": 4,
     "metadata": {},
     "output_type": "execute_result"
    }
   ],
   "source": [
    "# display first few \n",
    "# values in exam1_grades\n",
    "exam1_grades.head()"
   ]
  },
  {
   "cell_type": "code",
   "execution_count": 5,
   "metadata": {},
   "outputs": [
    {
     "data": {
      "text/plain": [
       "0      50.767629\n",
       "1      35.885651\n",
       "2      25.863683\n",
       "3      63.880479\n",
       "4      76.813004\n",
       "         ...    \n",
       "395    18.690264\n",
       "396    37.806135\n",
       "397    37.652460\n",
       "398    30.642744\n",
       "399    76.339240\n",
       "Length: 400, dtype: float64"
      ]
     },
     "execution_count": 5,
     "metadata": {},
     "output_type": "execute_result"
    }
   ],
   "source": [
    "exam1_grades"
   ]
  },
  {
   "cell_type": "code",
   "execution_count": 6,
   "metadata": {},
   "outputs": [
    {
     "data": {
      "text/plain": [
       "0    58.982355\n",
       "1    59.042285\n",
       "2    80.127161\n",
       "3    62.451786\n",
       "4    44.537905\n",
       "dtype: float64"
      ]
     },
     "execution_count": 6,
     "metadata": {},
     "output_type": "execute_result"
    }
   ],
   "source": [
    "# display first few \n",
    "# values in exam2_grades\n",
    "exam2_grades.head()"
   ]
  },
  {
   "cell_type": "code",
   "execution_count": 7,
   "metadata": {},
   "outputs": [
    {
     "data": {
      "text/plain": [
       "0      58.982355\n",
       "1      59.042285\n",
       "2      80.127161\n",
       "3      62.451786\n",
       "4      44.537905\n",
       "         ...    \n",
       "395    54.700956\n",
       "396    60.495775\n",
       "397    41.781334\n",
       "398    83.702063\n",
       "399    58.436683\n",
       "Length: 400, dtype: float64"
      ]
     },
     "execution_count": 7,
     "metadata": {},
     "output_type": "execute_result"
    }
   ],
   "source": [
    "exam2_grades"
   ]
  },
  {
   "cell_type": "code",
   "execution_count": 8,
   "metadata": {},
   "outputs": [
    {
     "data": {
      "image/png": "[encoded data removed]",
      "text/plain": [
       "<Figure size 720x360 with 2 Axes>"
      ]
     },
     "metadata": {
      "needs_background": "light"
     },
     "output_type": "display_data"
    }
   ],
   "source": [
    "# create 2 horizontally stacked subplots:\n",
    "# display histogram for exam1_grades and histogram for \n",
    "# exam2_grades side by side\n",
    "\n",
    "figure, axes = plt.subplots(1, 2, figsize=(10,5))\n",
    "\n",
    "axes[0].hist(exam1_grades, color='green', edgecolor='black')\n",
    "axes[0].set_title('Distribution of Grades for Exam #1')\n",
    "axes[1].hist(exam2_grades, color='blue', edgecolor='black')\n",
    "axes[1].set_title('Distribution of Grades for Exam #2')\n",
    "\n",
    "for a in axes.flat:\n",
    "    a.set(xlabel='Grade (%)', ylabel='Count')\n",
    "    \n",
    "plt.show()"
   ]
  },
  {
   "cell_type": "code",
   "execution_count": null,
   "metadata": {},
   "outputs": [],
   "source": []
  }
 ],
 "metadata": {
  "kernelspec": {
   "display_name": "Python 3 (ipykernel)",
   "language": "python",
   "name": "python3"
  },
  "language_info": {
   "codemirror_mode": {
    "name": "ipython",
    "version": 3
   },
   "file_extension": ".py",
   "mimetype": "text/x-python",
   "name": "python",
   "nbconvert_exporter": "python",
   "pygments_lexer": "ipython3",
   "version": "3.9.13"
  }
 },
 "nbformat": 4,
 "nbformat_minor": 4
}
