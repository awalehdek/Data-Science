{
  "cells": [
    {
      "cell_type": "code",
      "execution_count": null,
      "metadata": {
        "id": "ndyMYalWzq2m"
      },
      "outputs": [],
      "source": [
        "# import relevant libraries and modules\n",
        "import numpy as np\n",
        "import pandas as pd\n",
        "import matplotlib.pyplot as plt\n",
        "import warnings\n",
        "warnings.filterwarnings('ignore')\n",
        "%matplotlib inline"
      ]
    },
    {
      "cell_type": "code",
      "execution_count": null,
      "metadata": {
        "id": "d92MG5Mfzq2v"
      },
      "outputs": [],
      "source": [
        "# create a pandas series containing students' grades\n",
        "# on Exam #1 in a particular course\n",
        "exam1_grades = pd.Series(np.random.normal(50, 15, 400))"
      ]
    },
    {
      "cell_type": "code",
      "execution_count": null,
      "metadata": {
        "id": "V0VM62nzzq2y"
      },
      "outputs": [],
      "source": [
        "# create a pandas series containing students' grades\n",
        "# on Exam #2 in the same course\n",
        "exam2_grades = pd.Series(np.random.normal(60, 10, 400))"
      ]
    },
    {
      "cell_type": "code",
      "execution_count": null,
      "metadata": {
        "id": "KNmOeYQ_zq20",
        "outputId": "3fcfd60d-0c55-4670-d82e-956018e269be",
        "colab": {
          "base_uri": "https://localhost:8080/"
        }
      },
      "outputs": [
        {
          "output_type": "execute_result",
          "data": {
            "text/plain": [
              "0    38.073502\n",
              "1    32.677930\n",
              "2    27.274534\n",
              "3    54.275136\n",
              "4    67.869654\n",
              "dtype: float64"
            ]
          },
          "metadata": {},
          "execution_count": 4
        }
      ],
      "source": [
        "# display first few\n",
        "# values in exam1_grades\n",
        "exam1_grades.head()"
      ]
    },
    {
      "cell_type": "code",
      "execution_count": null,
      "metadata": {
        "id": "OHLWbfLbzq23",
        "outputId": "dff5f13e-7709-4c44-b9fc-f82c4f7a97b9",
        "colab": {
          "base_uri": "https://localhost:8080/"
        }
      },
      "outputs": [
        {
          "output_type": "execute_result",
          "data": {
            "text/plain": [
              "0      38.073502\n",
              "1      32.677930\n",
              "2      27.274534\n",
              "3      54.275136\n",
              "4      67.869654\n",
              "         ...    \n",
              "395    20.362131\n",
              "396    37.781656\n",
              "397    52.217731\n",
              "398    69.391347\n",
              "399    41.838634\n",
              "Length: 400, dtype: float64"
            ]
          },
          "metadata": {},
          "execution_count": 5
        }
      ],
      "source": [
        "exam1_grades"
      ]
    },
    {
      "cell_type": "code",
      "execution_count": null,
      "metadata": {
        "id": "TZfU1JzJzq24",
        "outputId": "98322d7b-116b-4339-8291-9c2e38634f60",
        "colab": {
          "base_uri": "https://localhost:8080/"
        }
      },
      "outputs": [
        {
          "output_type": "execute_result",
          "data": {
            "text/plain": [
              "0    49.274741\n",
              "1    57.683141\n",
              "2    44.442420\n",
              "3    47.494984\n",
              "4    55.531455\n",
              "dtype: float64"
            ]
          },
          "metadata": {},
          "execution_count": 6
        }
      ],
      "source": [
        "# display first few\n",
        "# values in exam2_grades\n",
        "exam2_grades.head()"
      ]
    },
    {
      "cell_type": "code",
      "execution_count": null,
      "metadata": {
        "id": "OkM1IgMpzq27",
        "outputId": "da70c814-7422-4822-eede-9557097b20a6",
        "colab": {
          "base_uri": "https://localhost:8080/"
        }
      },
      "outputs": [
        {
          "output_type": "execute_result",
          "data": {
            "text/plain": [
              "0      49.274741\n",
              "1      57.683141\n",
              "2      44.442420\n",
              "3      47.494984\n",
              "4      55.531455\n",
              "         ...    \n",
              "395    49.144138\n",
              "396    58.878868\n",
              "397    70.995456\n",
              "398    61.431288\n",
              "399    63.805680\n",
              "Length: 400, dtype: float64"
            ]
          },
          "metadata": {},
          "execution_count": 7
        }
      ],
      "source": [
        "exam2_grades"
      ]
    },
    {
      "cell_type": "code",
      "execution_count": null,
      "metadata": {
        "id": "lF37ggibzq27",
        "outputId": "6ff67677-91a4-47ae-d8cc-06b391a73359",
        "colab": {
          "base_uri": "https://localhost:8080/",
          "height": 507
        }
      },
      "outputs": [
        {
          "output_type": "display_data",
          "data": {
            "text/plain": [
              "<Figure size 1000x500 with 2 Axes>"
            ],
            "image/png": "[encoded data removed]"
          },
          "metadata": {}
        }
      ],
      "source": [
        "# create 2 horizontally stacked subplots:\n",
        "# display histogram for exam1_grades and histogram for\n",
        "# exam2_grades side by side\n",
        "\n",
        "figure, axes = plt.subplots(1, 2, figsize=(10,5))\n",
        "\n",
        "axes[0].hist(exam1_grades, color='green', edgecolor='black')\n",
        "axes[0].set_title('Distribution of Grades for Exam #1')\n",
        "axes[1].hist(exam2_grades, color='blue', edgecolor='black')\n",
        "axes[1].set_title('Distribution of Grades for Exam #2')\n",
        "\n",
        "for a in axes.flat:\n",
        "    a.set(xlabel='Grade (%)', ylabel='Count')\n",
        "\n",
        "plt.show()"
      ]
    },
    {
      "cell_type": "code",
      "execution_count": null,
      "metadata": {
        "id": "VN5NNIjjzq29"
      },
      "outputs": [],
      "source": []
    }
  ],
  "metadata": {
    "kernelspec": {
      "display_name": "Python 3 (ipykernel)",
      "language": "python",
      "name": "python3"
    },
    "language_info": {
      "codemirror_mode": {
        "name": "ipython",
        "version": 3
      },
      "file_extension": ".py",
      "mimetype": "text/x-python",
      "name": "python",
      "nbconvert_exporter": "python",
      "pygments_lexer": "ipython3",
      "version": "3.9.13"
    },
    "colab": {
      "provenance": []
    }
  },
  "nbformat": 4,
  "nbformat_minor": 0
}