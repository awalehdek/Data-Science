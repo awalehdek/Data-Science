{
 "cells": [
  {
   "cell_type": "code",
   "execution_count": 8,
   "id": "97bfa6d5",
   "metadata": {},
   "outputs": [],
   "source": [
    "import numpy as np\n",
    "import pandas as pd"
   ]
  },
  {
   "cell_type": "raw",
   "id": "02527397",
   "metadata": {},
   "source": []
  },
  {
   "cell_type": "code",
   "execution_count": 15,
   "id": "dea5b374",
   "metadata": {},
   "outputs": [
    {
     "data": {
      "text/plain": [
       "array([[0.91221453, 0.26785506],\n",
       "       [0.21292889, 0.13154787],\n",
       "       [0.95252444, 0.8871476 ],\n",
       "       [0.82352088, 0.42932825],\n",
       "       [0.09786914, 0.54380455],\n",
       "       [0.67239053, 0.06204609],\n",
       "       [0.19821588, 0.95086143],\n",
       "       [0.64724723, 0.73238878],\n",
       "       [0.07561652, 0.84650954],\n",
       "       [0.20998788, 0.34061953]])"
      ]
     },
     "execution_count": 15,
     "metadata": {},
     "output_type": "execute_result"
    }
   ],
   "source": [
    "\n",
    "rooms = 2 *np.random.rand(100, 1) +3\n",
    "rooms[1:10]\n",
    "#create a 2d array of 10 nbrs btw 0-1\n",
    "r =  np.random.rand(10,2)\n",
    "r"
   ]
  },
  {
   "cell_type": "code",
   "execution_count": null,
   "id": "f942045b",
   "metadata": {},
   "outputs": [],
   "source": []
  }
 ],
 "metadata": {
  "kernelspec": {
   "display_name": "Python 3 (ipykernel)",
   "language": "python",
   "name": "python3"
  },
  "language_info": {
   "codemirror_mode": {
    "name": "ipython",
    "version": 3
   },
   "file_extension": ".py",
   "mimetype": "text/x-python",
   "name": "python",
   "nbconvert_exporter": "python",
   "pygments_lexer": "ipython3",
   "version": "3.11.5"
  }
 },
 "nbformat": 4,
 "nbformat_minor": 5
}
