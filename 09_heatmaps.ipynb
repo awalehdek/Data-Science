{
 "cells": [
  {
   "cell_type": "code",
   "execution_count": 1,
   "metadata": {},
   "outputs": [
    {
     "name": "stderr",
     "output_type": "stream",
     "text": [
      "C:\\Users\\imran\\Anaconda3\\lib\\site-packages\\pandas\\compat\\_optional.py:138: UserWarning: Pandas requires version '2.7.0' or newer of 'numexpr' (version '2.6.8' currently installed).\n",
      "  warnings.warn(msg, UserWarning)\n"
     ]
    }
   ],
   "source": [
    "# import relevant libraries\n",
    "import numpy as np\n",
    "import pandas as pd\n",
    "import matplotlib.pyplot as plt\n",
    "import seaborn as sns\n",
    "import warnings\n",
    "warnings.filterwarnings('ignore')\n",
    "%matplotlib inline"
   ]
  },
  {
   "cell_type": "code",
   "execution_count": 2,
   "metadata": {},
   "outputs": [],
   "source": [
    "# create a variable that contains a numpy array representing \n",
    "# the sales of a small business for each of 12 months\n",
    "data = np.random.randint(100, 301, size=(12,12))\n",
    "\n",
    "# create a variable that contains the list of months\n",
    "months = ['January', 'February', 'March', 'April', 'May', 'June', \n",
    "'July','August', 'September', 'October', 'November', 'December']\n",
    "\n",
    "# create a variable that contains a list of the years \n",
    "# from 2008 to 2019 inclusive\n",
    "years = [2008, 2009, 2010, 2011, 2012, 2013, 2014, 2015, 2016, \n",
    "         2017, 2018, 2019]\n",
    "\n",
    "# create a variable named sales that contains a dataframe the \n",
    "# dataframe consists of the sales of a small business across \n",
    "# 12 months there is an entry for each month of each year \n",
    "# between 2008 and 2019 inclusive\n",
    "sales = pd.DataFrame(data, index=months, columns=years)"
   ]
  },
  {
   "cell_type": "code",
   "execution_count": 3,
   "metadata": {},
   "outputs": [
    {
     "data": {
      "text/html": [
       "<div>\n",
       "<style scoped>\n",
       "    .dataframe tbody tr th:only-of-type {\n",
       "        vertical-align: middle;\n",
       "    }\n",
       "\n",
       "    .dataframe tbody tr th {\n",
       "        vertical-align: top;\n",
       "    }\n",
       "\n",
       "    .dataframe thead th {\n",
       "        text-align: right;\n",
       "    }\n",
       "</style>\n",
       "<table border=\"1\" class=\"dataframe\">\n",
       "  <thead>\n",
       "    <tr style=\"text-align: right;\">\n",
       "      <th></th>\n",
       "      <th>2008</th>\n",
       "      <th>2009</th>\n",
       "      <th>2010</th>\n",
       "      <th>2011</th>\n",
       "      <th>2012</th>\n",
       "      <th>2013</th>\n",
       "      <th>2014</th>\n",
       "      <th>2015</th>\n",
       "      <th>2016</th>\n",
       "      <th>2017</th>\n",
       "      <th>2018</th>\n",
       "      <th>2019</th>\n",
       "    </tr>\n",
       "  </thead>\n",
       "  <tbody>\n",
       "    <tr>\n",
       "      <th>January</th>\n",
       "      <td>235</td>\n",
       "      <td>100</td>\n",
       "      <td>169</td>\n",
       "      <td>201</td>\n",
       "      <td>258</td>\n",
       "      <td>100</td>\n",
       "      <td>247</td>\n",
       "      <td>166</td>\n",
       "      <td>155</td>\n",
       "      <td>215</td>\n",
       "      <td>192</td>\n",
       "      <td>265</td>\n",
       "    </tr>\n",
       "    <tr>\n",
       "      <th>February</th>\n",
       "      <td>118</td>\n",
       "      <td>155</td>\n",
       "      <td>175</td>\n",
       "      <td>126</td>\n",
       "      <td>168</td>\n",
       "      <td>114</td>\n",
       "      <td>227</td>\n",
       "      <td>142</td>\n",
       "      <td>191</td>\n",
       "      <td>174</td>\n",
       "      <td>289</td>\n",
       "      <td>246</td>\n",
       "    </tr>\n",
       "    <tr>\n",
       "      <th>March</th>\n",
       "      <td>220</td>\n",
       "      <td>253</td>\n",
       "      <td>142</td>\n",
       "      <td>257</td>\n",
       "      <td>235</td>\n",
       "      <td>222</td>\n",
       "      <td>231</td>\n",
       "      <td>157</td>\n",
       "      <td>234</td>\n",
       "      <td>182</td>\n",
       "      <td>245</td>\n",
       "      <td>217</td>\n",
       "    </tr>\n",
       "    <tr>\n",
       "      <th>April</th>\n",
       "      <td>234</td>\n",
       "      <td>100</td>\n",
       "      <td>114</td>\n",
       "      <td>210</td>\n",
       "      <td>290</td>\n",
       "      <td>241</td>\n",
       "      <td>230</td>\n",
       "      <td>188</td>\n",
       "      <td>273</td>\n",
       "      <td>148</td>\n",
       "      <td>177</td>\n",
       "      <td>100</td>\n",
       "    </tr>\n",
       "    <tr>\n",
       "      <th>May</th>\n",
       "      <td>261</td>\n",
       "      <td>143</td>\n",
       "      <td>242</td>\n",
       "      <td>136</td>\n",
       "      <td>198</td>\n",
       "      <td>156</td>\n",
       "      <td>157</td>\n",
       "      <td>282</td>\n",
       "      <td>196</td>\n",
       "      <td>267</td>\n",
       "      <td>124</td>\n",
       "      <td>222</td>\n",
       "    </tr>\n",
       "  </tbody>\n",
       "</table>\n",
       "</div>"
      ],
      "text/plain": [
       "          2008  2009  2010  2011  2012  2013  2014  2015  2016  2017  2018  \\\n",
       "January    235   100   169   201   258   100   247   166   155   215   192   \n",
       "February   118   155   175   126   168   114   227   142   191   174   289   \n",
       "March      220   253   142   257   235   222   231   157   234   182   245   \n",
       "April      234   100   114   210   290   241   230   188   273   148   177   \n",
       "May        261   143   242   136   198   156   157   282   196   267   124   \n",
       "\n",
       "          2019  \n",
       "January    265  \n",
       "February   246  \n",
       "March      217  \n",
       "April      100  \n",
       "May        222  "
      ]
     },
     "execution_count": 3,
     "metadata": {},
     "output_type": "execute_result"
    }
   ],
   "source": [
    "# display first few rows of sales\n",
    "sales.head()"
   ]
  },
  {
   "cell_type": "code",
   "execution_count": 4,
   "metadata": {},
   "outputs": [
    {
     "data": {
      "image/png": "[encoded data removed]",
      "text/plain": [
       "<Figure size 432x288 with 2 Axes>"
      ]
     },
     "metadata": {
      "needs_background": "light"
     },
     "output_type": "display_data"
    }
   ],
   "source": [
    "# create a heatmap of sales\n",
    "sns.heatmap(sales);"
   ]
  },
  {
   "cell_type": "code",
   "execution_count": null,
   "metadata": {},
   "outputs": [],
   "source": []
  }
 ],
 "metadata": {
  "kernelspec": {
   "display_name": "Python 3 (ipykernel)",
   "language": "python",
   "name": "python3"
  },
  "language_info": {
   "codemirror_mode": {
    "name": "ipython",
    "version": 3
   },
   "file_extension": ".py",
   "mimetype": "text/x-python",
   "name": "python",
   "nbconvert_exporter": "python",
   "pygments_lexer": "ipython3",
   "version": "3.9.13"
  }
 },
 "nbformat": 4,
 "nbformat_minor": 4
}
